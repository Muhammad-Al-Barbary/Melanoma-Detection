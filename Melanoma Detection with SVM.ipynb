{
 "cells": [
  {
   "cell_type": "code",
   "execution_count": 1,
   "metadata": {},
   "outputs": [],
   "source": [
    "from mpl_toolkits.mplot3d import Axes3D\n",
    "from sklearn.preprocessing import StandardScaler\n",
    "import matplotlib.pyplot as plt # plotting\n",
    "import numpy as np # linear algebra\n",
    "import os # accessing directory structure\n",
    "import pandas as pd # data processing, CSV file I/O (e.g. pd.read_csv)\n",
    "from PIL import Image\n",
    "from skimage.color import rgb2gray\n",
    "from sklearn.decomposition import PCA\n",
    "from sklearn.metrics import accuracy_score\n",
    "from sklearn.model_selection import train_test_split\n",
    "from sklearn.svm import SVC"
   ]
  },
  {
   "cell_type": "code",
   "execution_count": 2,
   "metadata": {},
   "outputs": [],
   "source": [
    "dataset=[]\n",
    "for dirname, _, filenames in os.walk('C:/Users/Muhammad Al-Barbary/OneDrive/Desktop/Education/One-Lab Intern/Melanoma Detection/PH2Dataset/PH2 Dataset images'):\n",
    "    for filename in filenames:\n",
    "        image = Image.open(os.path.join(dirname, filename))\n",
    "        image=image.resize((575, 765))\n",
    "        image= np.asarray(image)\n",
    "        if (len(image.shape) == 3):\n",
    "            dataset.append(rgb2gray(image))\n",
    "        \n"
   ]
  },
  {
   "cell_type": "code",
   "execution_count": 3,
   "metadata": {},
   "outputs": [],
   "source": [
    "df = pd.read_csv('C:/Users/Muhammad Al-Barbary/OneDrive/Desktop/Education/One-Lab Intern/Melanoma Detection/PH2Dataset/PH2_dataset.csv')[12:]"
   ]
  },
  {
   "cell_type": "code",
   "execution_count": 4,
   "metadata": {},
   "outputs": [],
   "source": [
    "labels=[]\n",
    "for i in range(0,200):\n",
    "    if (np.asarray(df)[i][4]=='X'):\n",
    "        labels.append(1)\n",
    "    else:\n",
    "        labels.append(0)\n",
    "labels=np.asarray(labels)"
   ]
  },
  {
   "cell_type": "code",
   "execution_count": 5,
   "metadata": {},
   "outputs": [],
   "source": [
    "dataset_flat=[]\n",
    "for i in range(len(dataset)):\n",
    "    dataset_flat.append(np.asarray(dataset[i]).flatten())\n",
    "dataset_flat=np.asarray(dataset_flat)"
   ]
  },
  {
   "cell_type": "code",
   "execution_count": 6,
   "metadata": {},
   "outputs": [],
   "source": [
    "def SVMTrain(dataset_flat,labels,components):\n",
    "    PCA_Model=PCA(n_components=components)\n",
    "    X_Train_PCA=PCA_Model.fit_transform(dataset_flat)\n",
    "    X_train, X_test, y_train, y_test = train_test_split(X_Train_PCA, labels, test_size = 0.25, random_state = 0)\n",
    "    classifier = SVC(kernel = 'rbf', random_state = 0)\n",
    "    classifier.fit(X_train, y_train)\n",
    "    y_pred = classifier.predict(X_test)\n",
    "    test_accuracy=accuracy_score(y_test,y_pred)\n",
    "    y_pred_train = classifier.predict(X_train)\n",
    "    train_accuracy=accuracy_score(y_train,y_pred_train)\n",
    "    return components,train_accuracy,test_accuracy"
   ]
  },
  {
   "cell_type": "code",
   "execution_count": 7,
   "metadata": {},
   "outputs": [
    {
     "name": "stdout",
     "output_type": "stream",
     "text": [
      "Training Accuracy= 0.8866666666666667,Testing Accuracy= 0.88 at 10 PCA Components\n"
     ]
    }
   ],
   "source": [
    "PCA_ComponentsNumber,TrainAccuracy,TestAccuracy=SVMTrain(dataset_flat,labels,10)\n",
    "print(f\"Training Accuracy= {TrainAccuracy},Testing Accuracy= {TestAccuracy} at {PCA_ComponentsNumber} PCA Components\")"
   ]
  },
  {
   "cell_type": "code",
   "execution_count": null,
   "metadata": {},
   "outputs": [],
   "source": []
  }
 ],
 "metadata": {
  "kernelspec": {
   "display_name": "Python 3.8.5 ('base')",
   "language": "python",
   "name": "python3"
  },
  "language_info": {
   "codemirror_mode": {
    "name": "ipython",
    "version": 3
   },
   "file_extension": ".py",
   "mimetype": "text/x-python",
   "name": "python",
   "nbconvert_exporter": "python",
   "pygments_lexer": "ipython3",
   "version": "3.8.5"
  },
  "vscode": {
   "interpreter": {
    "hash": "1ef2af15255169531a06c842966204fd31cb89956011d167f4fe0d908cc67114"
   }
  }
 },
 "nbformat": 4,
 "nbformat_minor": 4
}
